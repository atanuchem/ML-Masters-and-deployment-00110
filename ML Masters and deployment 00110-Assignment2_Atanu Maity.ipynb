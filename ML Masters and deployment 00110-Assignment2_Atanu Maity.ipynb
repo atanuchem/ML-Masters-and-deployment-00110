{
 "cells": [
  {
   "cell_type": "markdown",
   "metadata": {},
   "source": [
    "# Task1: Q1.1"
   ]
  },
  {
   "cell_type": "code",
   "execution_count": 13,
   "metadata": {},
   "outputs": [
    {
     "data": {
      "text/plain": [
       "72"
      ]
     },
     "execution_count": 13,
     "metadata": {},
     "output_type": "execute_result"
    }
   ],
   "source": [
    "def my_reduce(fun,seq):\n",
    "    output = seq[0]\n",
    "    for i in seq[1:]:\n",
    "        output = fun(output,i)\n",
    "    return output\n",
    "\n",
    "\n",
    "l = [10,20,30,5,4,2,1]\n",
    "my_reduce(lambda m,n: m+n, l)"
   ]
  },
  {
   "cell_type": "markdown",
   "metadata": {},
   "source": [
    "# Task1: Q1.2"
   ]
  },
  {
   "cell_type": "code",
   "execution_count": 14,
   "metadata": {},
   "outputs": [
    {
     "data": {
      "text/plain": [
       "[12, 18, 10, 20, 30, 4, 2]"
      ]
     },
     "execution_count": 14,
     "metadata": {},
     "output_type": "execute_result"
    }
   ],
   "source": [
    "def my_filter(fun,l):\n",
    "    output =[]\n",
    "    \n",
    "    for i in l:\n",
    "        if fun(i):\n",
    "            output.append(fun(i))\n",
    "            \n",
    "    return output\n",
    "\n",
    "l = [12,18,15,13,17,10,20,30,5,4,2,1]\n",
    "\n",
    "def multiple_2(i):\n",
    "  \n",
    "    if (i % 2 == 0):       \n",
    "        return i\n",
    "    \n",
    "    \n",
    "my_filter(multiple_2,l)"
   ]
  },
  {
   "cell_type": "markdown",
   "metadata": {},
   "source": [
    "# Task1: Q2"
   ]
  },
  {
   "cell_type": "code",
   "execution_count": 15,
   "metadata": {},
   "outputs": [
    {
     "data": {
      "text/plain": [
       "['A', 'C', 'A', 'D', 'G', 'I', 'L', 'D']"
      ]
     },
     "execution_count": 15,
     "metadata": {},
     "output_type": "execute_result"
    }
   ],
   "source": [
    "word='ACADGILD'\n",
    "list1=[]\n",
    "for element in word:\n",
    "    list1.append(element)\n",
    "    \n",
    "list1"
   ]
  },
  {
   "cell_type": "code",
   "execution_count": 16,
   "metadata": {},
   "outputs": [
    {
     "data": {
      "text/plain": [
       "['x', 'xx', 'xxx', 'xxxx', 'y', 'yy', 'yyy', 'yyyy', 'z', 'zz', 'zzz', 'zzzz']"
      ]
     },
     "execution_count": 16,
     "metadata": {},
     "output_type": "execute_result"
    }
   ],
   "source": [
    "list2=[]\n",
    "repeat=4\n",
    "letter=['x','y','z']\n",
    "for element in letter:\n",
    "    word=element\n",
    "    for i in range(0, repeat):\n",
    "        list2.append(word)\n",
    "        word=word+element\n",
    "       \n",
    "    \n",
    "list2"
   ]
  },
  {
   "cell_type": "code",
   "execution_count": 17,
   "metadata": {},
   "outputs": [
    {
     "data": {
      "text/plain": [
       "['x', 'y', 'z', 'xx', 'yy', 'zz', 'xxx', 'yyy', 'zzz', 'xxxx', 'yyyy', 'zzzz']"
      ]
     },
     "execution_count": 17,
     "metadata": {},
     "output_type": "execute_result"
    }
   ],
   "source": [
    "list3=[]\n",
    "repeat=4\n",
    "letter=['x','y','z']\n",
    "for i in range(0, repeat):\n",
    "    for element in letter:\n",
    "        word=element\n",
    "        for j in range(0, i):\n",
    "            word=word+element\n",
    "        list3.append(word)        \n",
    "         \n",
    "        \n",
    "list3"
   ]
  },
  {
   "cell_type": "code",
   "execution_count": 18,
   "metadata": {},
   "outputs": [
    {
     "data": {
      "text/plain": [
       "[[2], [3], [4], [3], [4], [5], [4], [5], [6]]"
      ]
     },
     "execution_count": 18,
     "metadata": {},
     "output_type": "execute_result"
    }
   ],
   "source": [
    "list4=[]\n",
    "for i in range(2,5):\n",
    "    for j in range(i,i+3):\n",
    "        list4.append([j])\n",
    "        \n",
    "        \n",
    "list4"
   ]
  },
  {
   "cell_type": "code",
   "execution_count": 19,
   "metadata": {},
   "outputs": [
    {
     "data": {
      "text/plain": [
       "[[2, 3, 4, 5], [3, 4, 5, 6], [4, 5, 6, 7], [5, 6, 7, 8]]"
      ]
     },
     "execution_count": 19,
     "metadata": {},
     "output_type": "execute_result"
    }
   ],
   "source": [
    "list6=[]\n",
    "for i in range(2,6):\n",
    "    list5=[]\n",
    "    for j in range(i,i+4):\n",
    "        list5.append(j)\n",
    "    list6.append(list5)\n",
    "        \n",
    "        \n",
    "list6"
   ]
  },
  {
   "cell_type": "code",
   "execution_count": 20,
   "metadata": {},
   "outputs": [
    {
     "data": {
      "text/plain": [
       "[(1, 1), (2, 1), (3, 1), (1, 2), (2, 2), (3, 2), (1, 3), (2, 3), (3, 3)]"
      ]
     },
     "execution_count": 20,
     "metadata": {},
     "output_type": "execute_result"
    }
   ],
   "source": [
    "list8=[]\n",
    "for i in range(1,4):\n",
    "    for j in range(1,4):\n",
    "        list7=(j,i)\n",
    "        list8.append(list7) \n",
    "        \n",
    "        \n",
    "list8"
   ]
  },
  {
   "cell_type": "markdown",
   "metadata": {},
   "source": [
    "# Task1-Q3"
   ]
  },
  {
   "cell_type": "code",
   "execution_count": 34,
   "metadata": {},
   "outputs": [],
   "source": [
    "def longestWord(words):\n",
    "    '''\n",
    "    Return the longest word(s) from a comma\n",
    "    seperated list of words\n",
    "    '''\n",
    "    list=[]\n",
    "    list=words.split(sep=',')\n",
    "    longest=1\n",
    "    longest_words=[]\n",
    "    for i in range(0, len(list)):\n",
    "        if len(list[i]) > longest:\n",
    "            longest=len(list[i])\n",
    "            \n",
    "    \n",
    "    for i in range(0, len(list)):\n",
    "        if len(list[i]) == longest:\n",
    "            longest_words.append(list[i])\n",
    "            \n",
    "            \n",
    "    longest_words_sorted=set(longest_words)\n",
    "    \n",
    "    if len(longest_words_sorted)==1:\n",
    "        #print(\"Geeks : % 2d, Portal : % 5.2f\" %(1, 05.333))\n",
    "        return(\"The longest word is: %s\" % (', '.join(longest_words_sorted)))\n",
    "    else:\n",
    "        return(\"The longest words are: %s\" % (', '.join(longest_words_sorted)))"
   ]
  },
  {
   "cell_type": "code",
   "execution_count": 35,
   "metadata": {},
   "outputs": [
    {
     "data": {
      "text/plain": [
       "'The longest word is: Global Warming'"
      ]
     },
     "execution_count": 35,
     "metadata": {},
     "output_type": "execute_result"
    }
   ],
   "source": [
    "longestWord('Environment,Politics,Global Warming,CAA')"
   ]
  },
  {
   "cell_type": "markdown",
   "metadata": {},
   "source": [
    "# Task2-Q1.1"
   ]
  },
  {
   "cell_type": "code",
   "execution_count": 33,
   "metadata": {},
   "outputs": [
    {
     "name": "stdout",
     "output_type": "stream",
     "text": [
      "Length of side 1 :3\n",
      "Length of side 2 :4\n",
      "Length of side 3 :5\n",
      "Area of the Triangle = 6.0\n"
     ]
    }
   ],
   "source": [
    "class Triangle:\n",
    "    def __init__(self,a,b,c):\n",
    "        self.a = float(a)\n",
    "        self.b = float(b)\n",
    "        self.c = float(c)\n",
    "        self.s = (float(a)+float(b)+float(c))/2\n",
    "        \n",
    "        \n",
    "class Area(Triangle):\n",
    "    def __init__(self):\n",
    "        super().__init__(a,b,c)\n",
    "        self.area = round(((self.s*(self.s-self.a)*(self.s-self.b)*(self.s-self.c))**0.5),3)\n",
    "    \n",
    "\n",
    "    \n",
    "a = input(\"Length of side 1 :\")\n",
    "b = input(\"Length of side 2 :\")\n",
    "c= input(\"Length of side 3 :\")\n",
    "A = Triangle(a,b,c)\n",
    "\n",
    "B = Area()\n",
    "print(\"Area of the Triangle =\", B.area)"
   ]
  },
  {
   "cell_type": "markdown",
   "metadata": {},
   "source": [
    "# Task2-Q1.2"
   ]
  },
  {
   "cell_type": "code",
   "execution_count": 24,
   "metadata": {},
   "outputs": [],
   "source": [
    "def filter_long_words(words, integer):\n",
    "    '''\n",
    "    Return the longest word(s) from a comma\n",
    "    seperated list of words\n",
    "    '''\n",
    "    list=[]\n",
    "    list=words.split(sep=',')\n",
    "    longest=1\n",
    "    longest_words=[]\n",
    "    for i in range(0, len(list)):\n",
    "        if len(list[i]) > integer:\n",
    "            longest_words.append(list[i])\n",
    "            \n",
    "    print(longest_words)"
   ]
  },
  {
   "cell_type": "code",
   "execution_count": 25,
   "metadata": {},
   "outputs": [
    {
     "name": "stdout",
     "output_type": "stream",
     "text": [
      "['atanu', 'maity', '23456']\n"
     ]
    }
   ],
   "source": [
    "filter_long_words('atanu,maity,23456,s,ths,5', 3)"
   ]
  },
  {
   "cell_type": "markdown",
   "metadata": {},
   "source": [
    "# Task2-Q2.1"
   ]
  },
  {
   "cell_type": "code",
   "execution_count": 26,
   "metadata": {},
   "outputs": [],
   "source": [
    "def wordlength(words):\n",
    "    '''\n",
    "    Return a list containing \n",
    "    lengths of the given words\n",
    "    '''\n",
    "    list=[]\n",
    "    list=words.split(sep=',')\n",
    "    lengths=[]\n",
    "    for elements in list:\n",
    "        lengths.append(len(elements))\n",
    "        \n",
    "    print(lengths)"
   ]
  },
  {
   "cell_type": "code",
   "execution_count": 27,
   "metadata": {},
   "outputs": [
    {
     "name": "stdout",
     "output_type": "stream",
     "text": [
      "[3, 3, 2, 1]\n"
     ]
    }
   ],
   "source": [
    "wordlength('asd,bnd,lk,l')"
   ]
  },
  {
   "cell_type": "markdown",
   "metadata": {},
   "source": [
    "# Task2-Q2.2"
   ]
  },
  {
   "cell_type": "code",
   "execution_count": 28,
   "metadata": {},
   "outputs": [],
   "source": [
    "def vowels(c):\n",
    "    vowels = ('a', 'e', 'i','o', 'u')\n",
    "    if str(c) not in vowels:\n",
    "        return False\n",
    "    return True\n",
    "    "
   ]
  },
  {
   "cell_type": "code",
   "execution_count": 29,
   "metadata": {},
   "outputs": [
    {
     "data": {
      "text/plain": [
       "True"
      ]
     },
     "execution_count": 29,
     "metadata": {},
     "output_type": "execute_result"
    }
   ],
   "source": [
    "vowels('a')"
   ]
  }
 ],
 "metadata": {
  "kernelspec": {
   "display_name": "Python 3",
   "language": "python",
   "name": "python3"
  },
  "language_info": {
   "codemirror_mode": {
    "name": "ipython",
    "version": 3
   },
   "file_extension": ".py",
   "mimetype": "text/x-python",
   "name": "python",
   "nbconvert_exporter": "python",
   "pygments_lexer": "ipython3",
   "version": "3.7.4"
  }
 },
 "nbformat": 4,
 "nbformat_minor": 2
}
